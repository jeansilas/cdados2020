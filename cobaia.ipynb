{
 "cells": [
  {
   "cell_type": "markdown",
   "metadata": {},
   "source": [
    "# Projeto 1 - Ciência dos Dados"
   ]
  },
  {
   "cell_type": "markdown",
   "metadata": {},
   "source": [
    "Nome: _____\n",
    "\n",
    "Nome: _____"
   ]
  },
  {
   "cell_type": "markdown",
   "metadata": {},
   "source": [
    "**Atenção:** Serão permitidos grupos de três pessoas, mas com uma rubrica mais exigente. Grupos deste tamanho precisarão fazer um questionário de avaliação de trabalho em equipe"
   ]
  },
  {
   "cell_type": "markdown",
   "metadata": {},
   "source": [
    "___\n",
    "Carregando algumas bibliotecas:"
   ]
  },
  {
   "cell_type": "code",
   "execution_count": 23,
   "metadata": {},
   "outputs": [],
   "source": [
    "%matplotlib inline\n",
    "import pandas as pd\n",
    "import matplotlib.pyplot as plt\n",
    "import numpy as np\n",
    "import os\n",
    "import re"
   ]
  },
  {
   "cell_type": "markdown",
   "metadata": {},
   "source": [
    "**Em `filename`, coloque o nome do seu arquivo de dados!**"
   ]
  },
  {
   "cell_type": "code",
   "execution_count": 24,
   "metadata": {
    "scrolled": false
   },
   "outputs": [
    {
     "name": "stdout",
     "output_type": "stream",
     "text": [
      "Encontrei o arquivo classificado1.xlsx, tudo certo para prosseguir com a prova!\n"
     ]
    }
   ],
   "source": [
    "import os\n",
    "\n",
    "filename = 'classificado1.xlsx'\n",
    "if filename in os.listdir():\n",
    "    print(f'Encontrei o arquivo {filename}, tudo certo para prosseguir com a prova!')\n",
    "else:\n",
    "    print(f'Não encontrei o arquivo {filename} aqui no diretório {os.getcwd()}, será que você não baixou o arquivo?')"
   ]
  },
  {
   "cell_type": "markdown",
   "metadata": {},
   "source": [
    "Carregando a base de dados com os tweets classificados como relevantes e não relevantes:"
   ]
  },
  {
   "cell_type": "code",
   "execution_count": 25,
   "metadata": {},
   "outputs": [
    {
     "data": {
      "text/html": [
       "<div>\n",
       "<style scoped>\n",
       "    .dataframe tbody tr th:only-of-type {\n",
       "        vertical-align: middle;\n",
       "    }\n",
       "\n",
       "    .dataframe tbody tr th {\n",
       "        vertical-align: top;\n",
       "    }\n",
       "\n",
       "    .dataframe thead th {\n",
       "        text-align: right;\n",
       "    }\n",
       "</style>\n",
       "<table border=\"1\" class=\"dataframe\">\n",
       "  <thead>\n",
       "    <tr style=\"text-align: right;\">\n",
       "      <th></th>\n",
       "      <th>Treinamento</th>\n",
       "      <th>Classificação</th>\n",
       "    </tr>\n",
       "  </thead>\n",
       "  <tbody>\n",
       "    <tr>\n",
       "      <td>0</td>\n",
       "      <td>@anyretro acho que eu amo o de flocos e nutella</td>\n",
       "      <td>Relevante</td>\n",
       "    </tr>\n",
       "    <tr>\n",
       "      <td>1</td>\n",
       "      <td>pedi pastel de camarão e sla agr to arrependid...</td>\n",
       "      <td>Relevante</td>\n",
       "    </tr>\n",
       "    <tr>\n",
       "      <td>2</td>\n",
       "      <td>algm manda um pote de nutella pra mim que eu f...</td>\n",
       "      <td>Relevante</td>\n",
       "    </tr>\n",
       "    <tr>\n",
       "      <td>3</td>\n",
       "      <td>@corinthians_ff torcida modinha time vai mal r...</td>\n",
       "      <td>Irrelevante</td>\n",
       "    </tr>\n",
       "    <tr>\n",
       "      <td>4</td>\n",
       "      <td>@marciom61326104 cai fora paga pau de chines, ...</td>\n",
       "      <td>Irrelevante</td>\n",
       "    </tr>\n",
       "  </tbody>\n",
       "</table>\n",
       "</div>"
      ],
      "text/plain": [
       "                                         Treinamento Classificação\n",
       "0    @anyretro acho que eu amo o de flocos e nutella     Relevante\n",
       "1  pedi pastel de camarão e sla agr to arrependid...     Relevante\n",
       "2  algm manda um pote de nutella pra mim que eu f...     Relevante\n",
       "3  @corinthians_ff torcida modinha time vai mal r...   Irrelevante\n",
       "4  @marciom61326104 cai fora paga pau de chines, ...   Irrelevante"
      ]
     },
     "execution_count": 25,
     "metadata": {},
     "output_type": "execute_result"
    }
   ],
   "source": [
    "train = pd.read_excel(filename)\n",
    "# Colocando as classificações : 0: \"Negativo\", 1: \"Neutro\", 2: \"Positivo\"\n",
    "train[\"Classificação\"] = train[\"Classificação\"].astype(\"category\")\n",
    "train[\"Classificação\"].cat.categories = [\"Relevante\",\"Irrelevante\"]\n",
    "\n",
    "train.head(5)"
   ]
  },
  {
   "cell_type": "code",
   "execution_count": 26,
   "metadata": {},
   "outputs": [
    {
     "data": {
      "text/html": [
       "<div>\n",
       "<style scoped>\n",
       "    .dataframe tbody tr th:only-of-type {\n",
       "        vertical-align: middle;\n",
       "    }\n",
       "\n",
       "    .dataframe tbody tr th {\n",
       "        vertical-align: top;\n",
       "    }\n",
       "\n",
       "    .dataframe thead th {\n",
       "        text-align: right;\n",
       "    }\n",
       "</style>\n",
       "<table border=\"1\" class=\"dataframe\">\n",
       "  <thead>\n",
       "    <tr style=\"text-align: right;\">\n",
       "      <th></th>\n",
       "      <th>Teste</th>\n",
       "      <th>Classificação</th>\n",
       "    </tr>\n",
       "  </thead>\n",
       "  <tbody>\n",
       "    <tr>\n",
       "      <td>0</td>\n",
       "      <td>@duvirmond tênis? nutella</td>\n",
       "      <td>Irrelevante</td>\n",
       "    </tr>\n",
       "    <tr>\n",
       "      <td>1</td>\n",
       "      <td>como assim tem gente q n come nutella no açaí?...</td>\n",
       "      <td>Relevante</td>\n",
       "    </tr>\n",
       "    <tr>\n",
       "      <td>2</td>\n",
       "      <td>das delícias da abuelita, bolo ferrero! a comb...</td>\n",
       "      <td>Relevante</td>\n",
       "    </tr>\n",
       "    <tr>\n",
       "      <td>3</td>\n",
       "      <td>daqui a pouco enfiam nutella e granulado como ...</td>\n",
       "      <td>Relevante</td>\n",
       "    </tr>\n",
       "    <tr>\n",
       "      <td>4</td>\n",
       "      <td>biel querendo expulsão da raissa por causa de ...</td>\n",
       "      <td>Irrelevante</td>\n",
       "    </tr>\n",
       "  </tbody>\n",
       "</table>\n",
       "</div>"
      ],
      "text/plain": [
       "                                               Teste Classificação\n",
       "0                          @duvirmond tênis? nutella   Irrelevante\n",
       "1  como assim tem gente q n come nutella no açaí?...     Relevante\n",
       "2  das delícias da abuelita, bolo ferrero! a comb...     Relevante\n",
       "3  daqui a pouco enfiam nutella e granulado como ...     Relevante\n",
       "4  biel querendo expulsão da raissa por causa de ...   Irrelevante"
      ]
     },
     "execution_count": 26,
     "metadata": {},
     "output_type": "execute_result"
    }
   ],
   "source": [
    "test = pd.read_excel(filename, sheet_name = 'Teste')\n",
    "# Colocando as classificações : 0: \"Negativo\", 1: \"Neutro\", 2: \"Positivo\"\n",
    "test[\"Classificação\"] = test[\"Classificação\"].astype(\"category\")\n",
    "test[\"Classificação\"].cat.categories = [\"Relevante\",\"Irrelevante\"]\n",
    "test.head(5)"
   ]
  },
  {
   "cell_type": "markdown",
   "metadata": {},
   "source": [
    "___\n",
    "## Classificador automático de sentimento\n"
   ]
  },
  {
   "cell_type": "markdown",
   "metadata": {},
   "source": [
    "Faça aqui uma descrição do seu produto e o que considerou como relevante ou não relevante na classificação dos tweets.\n",
    "\n",
    "ESCREVA AQUI..."
   ]
  },
  {
   "cell_type": "markdown",
   "metadata": {},
   "source": [
    "___\n",
    "### Montando um Classificador Naive-Bayes\n",
    "\n",
    "Considerando apenas as mensagens da planilha Treinamento, ensine  seu classificador."
   ]
  },
  {
   "cell_type": "code",
   "execution_count": 30,
   "metadata": {},
   "outputs": [],
   "source": [
    "#Nesta célula vamos preparar os dados para fazer as probabilidades.\n",
    "\n",
    "\n",
    "\n",
    "#Twitters do treinamento com suas devidas classificações(Série)\n",
    "train_r = train.loc[train[\"Classificação\"] == \"Relevante\",:]\n",
    "train_ir = train.loc[train[\"Classificação\"] == \"Irrelevante\",:]\n",
    "\n",
    "#Twitters do treinamento com suas devidas classificações(Lista)\n",
    "twitters_r = []\n",
    "twitters_ir = []\n",
    "twitters_tudo = []\n",
    "\n",
    "#Palavras do treinamento com suas devidas classificações(Lista)\n",
    "palavras_r = []\n",
    "palavras_ir = []\n",
    "palavras_tudo = []\n",
    "\n",
    "# loop para encontrar os twitters\n",
    "for i in train_r.Treinamento:\n",
    "    twitters_r.append(i)\n",
    "    \n",
    "for i in train_ir.Treinamento:\n",
    "    twitters_ir.append(i)\n",
    "    \n",
    "for i in train.Treinamento:\n",
    "    twitters_tudo.append(i)\n",
    "\n",
    "# loop para encontrar as palavras\n",
    "\n",
    "for i in twitters_r:\n",
    "    word = i.split()\n",
    "    for t in word:\n",
    "         palavras_r.append(t)\n",
    "    \n",
    "for i in twitters_ir:\n",
    "    word = i.split()\n",
    "    for t in word:\n",
    "         palavras_ir.append(t)\n",
    "\n",
    "for i in twitters_tudo:\n",
    "    word = i.split()\n",
    "    for t in word:\n",
    "         palavras_tudo.append(t)\n",
    "\n",
    "#Função de limpeza de caracteres irrelevantes para o Nayve-Bayes:\n",
    "def cleanup(text):\n",
    "    \"\"\"\n",
    "        Função de limpeza muito simples que troca alguns sinais básicos por espaços\n",
    "    \"\"\"\n",
    "    #import string\n",
    "    punctuation = '[!-.:?;@/•]' # Note que os sinais [] são delimitadores de um conjunto.\n",
    "    pattern = re.compile(punctuation)\n",
    "    text_subbed = re.sub(pattern, '', text)\n",
    "    return text_subbed\n",
    "\n",
    "# Transformando as palavras em texto:\n",
    "texto_r = \"\"\n",
    "texto_ir = \"\"\n",
    "texto_tudo = \"\"\n",
    "\n",
    "# o loop para tranformar palavras em texto:\n",
    "for i in palavras_r:\n",
    "    texto_r += \" \"\n",
    "    texto_r += i\n",
    "\n",
    "for i in palavras_ir:\n",
    "    texto_ir += \" \"\n",
    "    texto_ir += i\n",
    "    \n",
    "for i in palavras_tudo:\n",
    "    texto_tudo += \" \"\n",
    "    texto_tudo += i\n",
    "\n",
    "#Limpando os textos:\n",
    "texto_r = cleanup(texto_r.lower())\n",
    "texto_ir = cleanup(texto_ir.lower())\n",
    "texto_tudo = cleanup(texto_tudo.lower())\n",
    "\n",
    "#Colocando tudo em uma série e um lista:\n",
    "serie_tudo = pd.Series(texto_tudo.split())\n",
    "serie_r = pd.Series(texto_r.split())\n",
    "serie_ir = pd.Series(texto_ir.split())\n",
    "\n",
    "lista_tudo = list(texto_tudo.split())\n",
    "lista_r = list(texto_r.split())\n",
    "lista_ir = list(texto_ir.split())\n",
    "\n",
    "\n",
    "\n"
   ]
  },
  {
   "cell_type": "code",
   "execution_count": 31,
   "metadata": {},
   "outputs": [],
   "source": [
    "# Vamos começar a construir as probabilidades\n",
    "prob_tudo = serie_tudo.value_counts()\n",
    "prob_r = serie_r.value_counts()\n",
    "prob_ir = serie_ir.value_counts()\n",
    "\n",
    "# Quantidade de palavras em cada classificação\n",
    "T_tudo = len(serie_tudo)\n",
    "T_r= len(serie_r)\n",
    "T_ir = len(serie_ir)\n",
    "\n",
    "#Uma vez construida as probabilidades podemos começar a pensar na função para a classificação:\n",
    "#Mas precisamos um alfa e um N para fazer o Laplace smoothing:\n",
    "#alpha(a):1\n",
    "#N(N): 10^6\n",
    "\n",
    "def classifica(frase):\n",
    "    a = 1\n",
    "    N = 10**4\n",
    "    p_ir = 1\n",
    "    p_r = 1\n",
    "    palavras = frase.split()\n",
    "    for i in palavras:\n",
    "        \n",
    "        if i not in lista_r:\n",
    "            p_r *= a/(T_r+N*a)\n",
    "        elif i in lista_r:\n",
    "            p_r *= a+prob_r[i]/(T_r+N*a)\n",
    "            \n",
    "        if i not in lista_ir:\n",
    "            p_ir *= a/(T_ir+N*a)\n",
    "        elif i in lista_ir:\n",
    "            p_ir *= a+prob_ir[i]/(T_ir+N*a)\n",
    "            \n",
    "    if p_r > p_ir:\n",
    "        return \"Relevante\"\n",
    "    else:\n",
    "        return \"Irrelevante\""
   ]
  },
  {
   "cell_type": "code",
   "execution_count": 49,
   "metadata": {},
   "outputs": [
    {
     "data": {
      "text/plain": [
       "('Irrelevante', 4.5181695432309385e-09, 4.6342555577102265e-09)"
      ]
     },
     "execution_count": 49,
     "metadata": {},
     "output_type": "execute_result"
    }
   ],
   "source": [
    "classifica(\"\")"
   ]
  },
  {
   "cell_type": "markdown",
   "metadata": {},
   "source": [
    "___\n",
    "### Verificando a performance do Classificador\n",
    "\n",
    "Agora você deve testar o seu classificador com a base de Testes."
   ]
  },
  {
   "cell_type": "code",
   "execution_count": 46,
   "metadata": {},
   "outputs": [],
   "source": [
    "# Separando o dataframe somente na parte com os twitters:\n",
    "test_ = test.Teste\n",
    "\n",
    "#Adicionando os Twitters em uma lista:\n",
    "test_twitters = test_.tolist()\n",
    "\n",
    "\n",
    "            "
   ]
  },
  {
   "cell_type": "code",
   "execution_count": null,
   "metadata": {},
   "outputs": [],
   "source": []
  },
  {
   "cell_type": "code",
   "execution_count": null,
   "metadata": {},
   "outputs": [],
   "source": []
  },
  {
   "cell_type": "markdown",
   "metadata": {},
   "source": [
    "___\n",
    "### Concluindo"
   ]
  },
  {
   "cell_type": "code",
   "execution_count": null,
   "metadata": {},
   "outputs": [],
   "source": []
  },
  {
   "cell_type": "code",
   "execution_count": null,
   "metadata": {},
   "outputs": [],
   "source": []
  },
  {
   "cell_type": "markdown",
   "metadata": {},
   "source": [
    "___\n",
    "## Aperfeiçoamento:\n",
    "\n",
    "Os trabalhos vão evoluir em conceito dependendo da quantidade de itens avançados:\n",
    "\n",
    "* Limpar: \\n, :, \", ', (, ), etc SEM remover emojis\n",
    "* Corrigir separação de espaços entre palavras e emojis ou entre emojis e emojis\n",
    "* Propor outras limpezas e transformações que não afetem a qualidade da informação ou classificação\n",
    "* Criar categorias intermediárias de relevância baseadas na probabilidade: ex.: muito relevante, relevante, neutro, irrelevante, muito irrelevante (3 categorias: C, mais categorias conta para B)\n",
    "* Explicar por que não posso usar o próprio classificador para gerar mais amostras de treinamento\n",
    "* Propor diferentes cenários para Naïve Bayes fora do contexto do projeto\n",
    "* Sugerir e explicar melhorias reais com indicações concretas de como implementar (indicar como fazer e indicar material de pesquisa)\n",
    "* Montar um dashboard que realiza análise de sentimento e visualiza estes dados"
   ]
  },
  {
   "cell_type": "markdown",
   "metadata": {},
   "source": [
    "___\n",
    "## Referências"
   ]
  },
  {
   "cell_type": "markdown",
   "metadata": {},
   "source": [
    "[Naive Bayes and Text Classification](https://arxiv.org/pdf/1410.5329.pdf)  **Mais completo**\n",
    "\n",
    "[A practical explanation of a Naive Bayes Classifier](https://monkeylearn.com/blog/practical-explanation-naive-bayes-classifier/) **Mais simples**"
   ]
  },
  {
   "cell_type": "code",
   "execution_count": null,
   "metadata": {},
   "outputs": [],
   "source": []
  }
 ],
 "metadata": {
  "kernelspec": {
   "display_name": "Python 3",
   "language": "python",
   "name": "python3"
  },
  "language_info": {
   "codemirror_mode": {
    "name": "ipython",
    "version": 3
   },
   "file_extension": ".py",
   "mimetype": "text/x-python",
   "name": "python",
   "nbconvert_exporter": "python",
   "pygments_lexer": "ipython3",
   "version": "3.7.4"
  }
 },
 "nbformat": 4,
 "nbformat_minor": 4
}
