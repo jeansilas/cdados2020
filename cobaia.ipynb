{
 "cells": [
  {
   "cell_type": "markdown",
   "metadata": {},
   "source": [
    "# Projeto 1 - Ciência dos Dados"
   ]
  },
  {
   "cell_type": "markdown",
   "metadata": {},
   "source": [
    "Nome: Jean Silas\n",
    "Nome: Lai Haru"
   ]
  },
  {
   "cell_type": "markdown",
   "metadata": {},
   "source": [
    "**Atenção:** Serão permitidos grupos de três pessoas, mas com uma rubrica mais exigente. Grupos deste tamanho precisarão fazer um questionário de avaliação de trabalho em equipe"
   ]
  },
  {
   "cell_type": "markdown",
   "metadata": {},
   "source": [
    "___\n",
    "Carregando algumas bibliotecas:"
   ]
  },
  {
   "cell_type": "code",
   "execution_count": 18,
   "metadata": {},
   "outputs": [],
   "source": [
    "%matplotlib inline\n",
    "from math import *\n",
    "import pandas as pd\n",
    "import matplotlib.pyplot as plt\n",
    "import numpy as np\n",
    "import os\n",
    "import re"
   ]
  },
  {
   "cell_type": "markdown",
   "metadata": {},
   "source": [
    "**Em `filename`, coloque o nome do seu arquivo de dados!**"
   ]
  },
  {
   "cell_type": "code",
   "execution_count": 19,
   "metadata": {
    "scrolled": false,
    "tags": []
   },
   "outputs": [
    {
     "output_type": "stream",
     "name": "stdout",
     "text": "Encontrei o arquivo classificado1.xlsx, tudo certo para prosseguir com a prova!\n"
    }
   ],
   "source": [
    "\n",
    "filename = 'classificado1.xlsx'\n",
    "if filename in os.listdir():\n",
    "    print(f'Encontrei o arquivo {filename}, tudo certo para prosseguir com a prova!')\n",
    "else:\n",
    "    print(f'Não encontrei o arquivo {filename} aqui no diretório {os.getcwd()}, será que você não baixou o arquivo?')"
   ]
  },
  {
   "cell_type": "markdown",
   "metadata": {},
   "source": [
    "Carregando a base de dados com os tweets classificados como relevantes e não relevantes:"
   ]
  },
  {
   "cell_type": "code",
   "execution_count": 20,
   "metadata": {},
   "outputs": [
    {
     "output_type": "execute_result",
     "data": {
      "text/plain": "                                         Treinamento Classificação\n0    @anyretro acho que eu amo o de flocos e nutella     Relevante\n1  pedi pastel de camarão e sla agr to arrependid...     Relevante\n2  algm manda um pote de nutella pra mim que eu f...     Relevante\n3  @corinthians_ff torcida modinha time vai mal r...   Irrelevante\n4  @marciom61326104 cai fora paga pau de chines, ...   Irrelevante",
      "text/html": "<div>\n<style scoped>\n    .dataframe tbody tr th:only-of-type {\n        vertical-align: middle;\n    }\n\n    .dataframe tbody tr th {\n        vertical-align: top;\n    }\n\n    .dataframe thead th {\n        text-align: right;\n    }\n</style>\n<table border=\"1\" class=\"dataframe\">\n  <thead>\n    <tr style=\"text-align: right;\">\n      <th></th>\n      <th>Treinamento</th>\n      <th>Classificação</th>\n    </tr>\n  </thead>\n  <tbody>\n    <tr>\n      <th>0</th>\n      <td>@anyretro acho que eu amo o de flocos e nutella</td>\n      <td>Relevante</td>\n    </tr>\n    <tr>\n      <th>1</th>\n      <td>pedi pastel de camarão e sla agr to arrependid...</td>\n      <td>Relevante</td>\n    </tr>\n    <tr>\n      <th>2</th>\n      <td>algm manda um pote de nutella pra mim que eu f...</td>\n      <td>Relevante</td>\n    </tr>\n    <tr>\n      <th>3</th>\n      <td>@corinthians_ff torcida modinha time vai mal r...</td>\n      <td>Irrelevante</td>\n    </tr>\n    <tr>\n      <th>4</th>\n      <td>@marciom61326104 cai fora paga pau de chines, ...</td>\n      <td>Irrelevante</td>\n    </tr>\n  </tbody>\n</table>\n</div>"
     },
     "metadata": {},
     "execution_count": 20
    }
   ],
   "source": [
    "train = pd.read_excel(filename)\n",
    "# Colocando as classificações : 0: \"Negativo\", 1: \"Neutro\", 2: \"Positivo\"\n",
    "train[\"Classificação\"] = train[\"Classificação\"].astype(\"category\")\n",
    "train[\"Classificação\"].cat.categories = [\"Relevante\",\"Irrelevante\"]\n",
    "\n",
    "train.head(5)"
   ]
  },
  {
   "cell_type": "code",
   "execution_count": 23,
   "metadata": {},
   "outputs": [
    {
     "output_type": "execute_result",
     "data": {
      "text/plain": "                                               Teste Classificação\n0                          @duvirmond tênis? nutella   Irrelevante\n1  como assim tem gente q n come nutella no açaí?...     Relevante\n2  das delícias da abuelita, bolo ferrero! a comb...     Relevante\n3  daqui a pouco enfiam nutella e granulado como ...     Relevante\n4  biel querendo expulsão da raissa por causa de ...   Irrelevante",
      "text/html": "<div>\n<style scoped>\n    .dataframe tbody tr th:only-of-type {\n        vertical-align: middle;\n    }\n\n    .dataframe tbody tr th {\n        vertical-align: top;\n    }\n\n    .dataframe thead th {\n        text-align: right;\n    }\n</style>\n<table border=\"1\" class=\"dataframe\">\n  <thead>\n    <tr style=\"text-align: right;\">\n      <th></th>\n      <th>Teste</th>\n      <th>Classificação</th>\n    </tr>\n  </thead>\n  <tbody>\n    <tr>\n      <th>0</th>\n      <td>@duvirmond tênis? nutella</td>\n      <td>Irrelevante</td>\n    </tr>\n    <tr>\n      <th>1</th>\n      <td>como assim tem gente q n come nutella no açaí?...</td>\n      <td>Relevante</td>\n    </tr>\n    <tr>\n      <th>2</th>\n      <td>das delícias da abuelita, bolo ferrero! a comb...</td>\n      <td>Relevante</td>\n    </tr>\n    <tr>\n      <th>3</th>\n      <td>daqui a pouco enfiam nutella e granulado como ...</td>\n      <td>Relevante</td>\n    </tr>\n    <tr>\n      <th>4</th>\n      <td>biel querendo expulsão da raissa por causa de ...</td>\n      <td>Irrelevante</td>\n    </tr>\n  </tbody>\n</table>\n</div>"
     },
     "metadata": {},
     "execution_count": 23
    }
   ],
   "source": [
    "test = pd.read_excel(filename, sheet_name = 'Teste')\n",
    "# Colocando as classificações : 0: \"Negativo\", 1: \"Neutro\", 2: \"Positivo\"\n",
    "test[\"Classificação\"] = test[\"Classificação\"].astype(\"category\")\n",
    "test[\"Classificação\"].cat.categories = [\"Relevante\",\"Irrelevante\"]\n",
    "test.head(5)"
   ]
  },
  {
   "cell_type": "markdown",
   "metadata": {},
   "source": [
    "___\n",
    "## Classificador automático de sentimento\n"
   ]
  },
  {
   "cell_type": "markdown",
   "metadata": {},
   "source": [
    "Este classificador escolhe tweets onde existe a palavra Nutella e verifica se o tema principal é o alimento ou se é referencia a expressao cultural raiz vs. nutella. Neste caso, relevantes são tweets que falam sobre o alimento, e não relevantes aqueles que usamda expressão raiz vs. nutella."
   ]
  },
  {
   "cell_type": "markdown",
   "metadata": {},
   "source": [
    "___\n",
    "### Montando um Classificador Naive-Bayes\n",
    "\n",
    "Considerando apenas as mensagens da planilha Treinamento, ensine  seu classificador."
   ]
  },
  {
   "cell_type": "code",
   "execution_count": 25,
   "metadata": {},
   "outputs": [],
   "source": [
    "##Nesta célula vamos preparar os dados para fazer as probabilidades.\n",
    "\n",
    "\n",
    "\n",
    "#Twitters do treinamento com suas devidas classificações(Série)\n",
    "train_r = train.loc[train[\"Classificação\"] == \"Relevante\",:]\n",
    "train_ir = train.loc[train[\"Classificação\"] == \"Irrelevante\",:]\n",
    "\n",
    "#Twitters do treinamento com suas devidas classificações(Lista)\n",
    "twitters_r = []\n",
    "twitters_ir = []\n",
    "twitters_tudo = []\n",
    "\n",
    "#Palavras do treinamento com suas devidas classificações(Lista)\n",
    "palavras_r = []\n",
    "palavras_ir = []\n",
    "palavras_tudo = []\n",
    "\n",
    "# loop para encontrar os twitters\n",
    "for i in train_r.Treinamento:\n",
    "    twitters_r.append(i)\n",
    "    \n",
    "for i in train_ir.Treinamento:\n",
    "    twitters_ir.append(i)\n",
    "    \n",
    "\n",
    "for i in train.Treinamento:\n",
    "    twitters_tudo.append(i)\n",
    "\n",
    "# loop para encontrar as palavras\n",
    "\n",
    "for i in twitters_r:\n",
    "    word = i.split()\n",
    "    for t in word:\n",
    "         palavras_r.append(t)\n",
    "    \n",
    "for i in twitters_ir:\n",
    "    word = i.split()\n",
    "    for t in word:\n",
    "         palavras_ir.append(t)\n",
    "\n",
    "for i in twitters_tudo:\n",
    "    word = i.split()\n",
    "    for t in word:\n",
    "         palavras_tudo.append(t)\n",
    "\n",
    "#Função de limpeza de caracteres irrelevantes para o Nayve-Bayes:\n",
    "def cleanup(text):\n",
    "    \"\"\"\n",
    "        Função de limpeza muito simples que troca alguns sinais básicos por espaços\n",
    "    \"\"\"\n",
    "    #import string\n",
    "    punctuation = '[!-.:?;@/•]' # Note que os sinais [] são delimitadores de um conjunto.\n",
    "    pattern = re.compile(punctuation)\n",
    "    text_subbed = re.sub(pattern, '', text)\n",
    "    return text_subbed\n",
    "#Funçao que separa emoji de emojis e palavras de emojis:\n",
    "\n",
    "def emoji(text):\n",
    "    import emoji\n",
    "    novo_texto = ''\n",
    "    for character in text:\n",
    "        if character in emoji.UNICODE_EMOJI :\n",
    "            novo_texto += ' '+ character + ' '\n",
    "        else:\n",
    "            novo_texto += character\n",
    "    return novo_texto\n",
    "\n",
    "# Transformando as palavras em texto:\n",
    "texto_r = \"\"\n",
    "texto_ir = \"\"\n",
    "texto_tudo = \"\"\n",
    "\n",
    "# o loop para tranformar palavras em texto:\n",
    "for i in palavras_r:\n",
    "    texto_r += \" \"\n",
    "    texto_r += i\n",
    "\n",
    "for i in palavras_ir:\n",
    "    texto_ir += \" \"\n",
    "    texto_ir += i\n",
    "    \n",
    "for i in palavras_tudo:\n",
    "    texto_tudo += \" \"\n",
    "    texto_tudo += i\n",
    "\n",
    "#Limpando os textos:\n",
    "texto_r = emoji(cleanup(texto_r.lower()))\n",
    "texto_ir = emoji(cleanup(texto_ir.lower()))\n",
    "texto_tudo = emoji(cleanup(texto_tudo.lower()))\n",
    "\n",
    "#Colocando tudo em uma série e um lista:\n",
    "serie_tudo = pd.Series(texto_tudo.split())\n",
    "serie_r = pd.Series(texto_r.split())\n",
    "serie_ir = pd.Series(texto_ir.split())\n",
    "\n",
    "lista_tudo = list(texto_tudo.split())\n",
    "lista_r = list(texto_r.split())\n",
    "lista_ir = list(texto_ir.split())\n",
    "\n",
    "\n",
    "\n"
   ]
  },
  {
   "cell_type": "code",
   "execution_count": 27,
   "metadata": {},
   "outputs": [],
   "source": [
    "#Vamos definir os priors\n",
    "prior_r = len(twitters_r)/len(twitters_tudo)\n",
    "prior_ir = len(twitters_ir)/len(twitters_tudo)\n",
    "# Vamos começar a construir as probabilidades\n",
    "prob_tudo = serie_tudo.value_counts()\n",
    "prob_r = serie_r.value_counts()\n",
    "prob_ir = serie_ir.value_counts()\n",
    "\n",
    "# Quantidade de palavras em cada classificação\n",
    "T_tudo = len(serie_tudo)\n",
    "T_r= len(serie_r)\n",
    "T_ir = len(serie_ir)\n",
    "\n",
    "#Uma vez construida as probabilidades podemos começar a pensar na função para a classificação:\n",
    "#Mas precisamos um alfa e um N para fazer o Laplace smoothing:\n",
    "#alpha(a):1\n",
    "#N(N): 10^6\n",
    "\n",
    "def classifica(frase):\n",
    "    a = 1\n",
    "    N = 10**6\n",
    "    p_r = log(prior_r,10)\n",
    "    p_ir = log(prior_ir,10)\n",
    "    palavras = frase.split()\n",
    "    for i in palavras:\n",
    "        \n",
    "        if i not in lista_r:\n",
    "            p_r += log(a/(T_r+N*a),10)\n",
    "        elif i in lista_r:\n",
    "            p_r += log(a+prob_r[i]/(T_r+N*a),10)\n",
    "            \n",
    "        if i not in lista_ir:\n",
    "            p_ir += log(a/(T_ir+N*a),10)\n",
    "        elif i in lista_ir:\n",
    "            p_ir += log(a+prob_ir[i]/(T_ir+N*a),10)\n",
    "            \n",
    "    if p_r > p_ir:\n",
    "        diff = p_r-p_ir\n",
    "        return \"Relevante\", diff\n",
    "    else:\n",
    "        return \"Irrelevante\", 0"
   ]
  },
  {
   "cell_type": "code",
   "execution_count": 28,
   "metadata": {
    "tags": []
   },
   "outputs": [],
   "source": [
    "classifica_teste = pd.DataFrame()\n",
    "classifica_teste['frase'] = test['Teste']\n",
    "classifica_teste['classificacao'] = ''\n",
    "classifica_teste['diferenca'] = 0\n",
    "classifica_teste['classi_secundaria'] = ''\n",
    "\n",
    "\n",
    "for index, row in test.iterrows():\n",
    "    \n",
    "    frase = row.Teste\n",
    "    classi, diff = classifica(frase)\n",
    "    classifica_teste['diferenca'][index] = diff\n",
    "    classifica_teste['classificacao'][index] = classi\n",
    "\n",
    "    if diff < 12:\n",
    "        classifica_teste['classi_secundaria'][index] = 'Pouco relevante'\n",
    "    elif diff < 30:\n",
    "        classifica_teste['classi_secundaria'][index] = 'Médio relevante'\n",
    "    else:\n",
    "        classifica_teste['classi_secundaria'][index] = 'Muito relevante'\n",
    "        \n",
    "classifica_teste.to_csv('teste.csv')\n",
    "\n"
   ]
  },
  {
   "cell_type": "markdown",
   "metadata": {},
   "source": [
    "___\n",
    "### Verificando a performance do Classificador\n",
    "\n",
    "Agora você deve testar o seu classificador com a base de Testes."
   ]
  },
  {
   "cell_type": "code",
   "execution_count": 16,
   "metadata": {
    "tags": []
   },
   "outputs": [
    {
     "output_type": "stream",
     "name": "stdout",
     "text": "A acurácia do classificador Naive Bayes foi de : 81.40\n"
    }
   ],
   "source": [
    "# Separando o dataframe somente na parte com os twitters:\n",
    "test_ = test.Teste\n",
    "\n",
    "#Adicionando os Twitters em uma lista:\n",
    "test_twitters = test_.tolist()\n",
    "\n",
    "\n",
    "original = pd.DataFrame(test['Classificação'])\n",
    "validar = pd.DataFrame(classifica_teste['classificacao'])\n",
    "lista_result = []\n",
    "i = 0\n",
    "\n",
    "for index, row in original.iterrows():\n",
    "    orig = original['Classificação'][index]\n",
    "    result = validar['classificacao'][index] \n",
    "\n",
    "    if orig == result:\n",
    "        lista_result = lista_result + [1]\n",
    "        i +=1\n",
    "    else:\n",
    "        lista_result = lista_result + [0]\n",
    "\n",
    "acuracia = i/len(lista_result)\n",
    "acuracia\n",
    "print(\"A acurácia do classificador Naive Bayes foi de :{0:.2f}\".format(acuracia*100))"
   ]
  },
  {
   "cell_type": "code",
   "execution_count": 17,
   "metadata": {},
   "outputs": [
    {
     "output_type": "execute_result",
     "data": {
      "text/plain": "classificacao  Irrelevante  Relevante\nClassificação                        \nRelevante               13        148\nIrrelevante             97         43",
      "text/html": "<div>\n<style scoped>\n    .dataframe tbody tr th:only-of-type {\n        vertical-align: middle;\n    }\n\n    .dataframe tbody tr th {\n        vertical-align: top;\n    }\n\n    .dataframe thead th {\n        text-align: right;\n    }\n</style>\n<table border=\"1\" class=\"dataframe\">\n  <thead>\n    <tr style=\"text-align: right;\">\n      <th>classificacao</th>\n      <th>Irrelevante</th>\n      <th>Relevante</th>\n    </tr>\n    <tr>\n      <th>Classificação</th>\n      <th></th>\n      <th></th>\n    </tr>\n  </thead>\n  <tbody>\n    <tr>\n      <th>Relevante</th>\n      <td>13</td>\n      <td>148</td>\n    </tr>\n    <tr>\n      <th>Irrelevante</th>\n      <td>97</td>\n      <td>43</td>\n    </tr>\n  </tbody>\n</table>\n</div>"
     },
     "metadata": {},
     "execution_count": 17
    }
   ],
   "source": [
    "Tabela = pd.crosstab(test[\"Classificação\"],classifica_teste[\"classificacao\"])\n",
    "Tabela"
   ]
  },
  {
   "source": [
    "Considerando que tweets relevantes são positivos e não relevantes são negativo podemos concluir que obtivemos 13 falsos negativos e 43 falsos positivos."
   ],
   "cell_type": "markdown",
   "metadata": {}
  },
  {
   "cell_type": "markdown",
   "metadata": {},
   "source": [
    "___\n",
    "### Concluindo"
   ]
  },
  {
   "source": [
    "Nosso modelo conseguiu uma acurácia de 81,4%, ou seja, nosso modelo conseguiu acertar 81,4% dos casos se um twitter era relevante ou não para o produto Nutella. Apesar de possuir uma boa acurácia, nosso modelo fica restrito a aplicações que não envolvam decisões importantes, já que ele analisa as palavras separadamente, deixando a desejar no quesito da expressão línguistica e das diferentes mensagens podem passadas quando as palavras estão em contexto diferentes. Desse modo, sua aplicação se restringe a entender a dinâmica de relevância de um produto ou não para fins menos delicados.\n"
   ],
   "cell_type": "markdown",
   "metadata": {}
  },
  {
   "source": [],
   "cell_type": "markdown",
   "metadata": {}
  },
  {
   "cell_type": "markdown",
   "metadata": {},
   "source": [
    "___\n",
    "## Aperfeiçoamento:\n",
    "\n",
    "Os trabalhos vão evoluir em conceito dependendo da quantidade de itens avançados:\n",
    "\n",
    "* Limpar: \\n, :, \", ', (, ), etc SEM remover emojis\n",
    "* Corrigir separação de espaços entre palavras e emojis ou entre emojis e emojis\n",
    "* Propor outras limpezas e transformações que não afetem a qualidade da informação ou classificação\n",
    "* Criar categorias intermediárias de relevância baseadas na probabilidade: ex.: muito relevante, relevante, neutro, irrelevante, muito irrelevante (3 categorias: C, mais categorias conta para B)\n",
    "* Explicar por que não posso usar o próprio classificador para gerar mais amostras de treinamento\n",
    "* Propor diferentes cenários para Naïve Bayes fora do contexto do projeto\n",
    "* Sugerir e explicar melhorias reais com indicações concretas de como implementar (indicar como fazer e indicar material de pesquisa)\n",
    "* Montar um dashboard que realiza análise de sentimento e visualiza estes dados"
   ]
  },
  {
   "source": [
    "### Porque não posso utilizar o proprio classificador para gerar mais amostras de treinamento ?\\n\",\n",
    " Primeiramente, como esse classificador está em baseado somente em lógica matemática logo ela não é adequado para analisar construções complexas e que precisem de toda uma bagagem cultural, linguística e humana para entender. Para além disso, como nós o classificamos utilizando a nossa própria bagagem de mundo, então ele está impregnado com os nossos próprios vieses(do grupo), o que faria com que ocorrese uma acurácia falsa de 100% quando passasse pelo teste."
   ],
   "cell_type": "markdown",
   "metadata": {}
  },
  {
   "source": [
    "### Diferentes cenários para o uso do Naive Bayes\n",
    " \"O Naive Bayes que construimos não serve para assuntos que são muito delicados para analisar, no entanto coisas que o ser humano pode automatizar para classificação e filtragem podem ser aplicações ótimas para o Naive Bayes. Podemos falar de uma pesquisa no instagram, de filtragem de SPAMs em um e-mail, classificação de textos,análise de sentimentos em redes sociais em geral. Geralmente, as aplicações em que o Naive Bayes é recomendada são aquelas em que um erro não seria algo inaceitável"
   ],
   "cell_type": "markdown",
   "metadata": {}
  },
  {
   "source": [],
   "cell_type": "markdown",
   "metadata": {}
  },
  {
   "cell_type": "code",
   "execution_count": null,
   "metadata": {},
   "outputs": [],
   "source": []
  },
  {
   "cell_type": "code",
   "execution_count": null,
   "metadata": {},
   "outputs": [],
   "source": []
  },
  {
   "cell_type": "markdown",
   "metadata": {},
   "source": [
    "___\n",
    "## Referências"
   ]
  },
  {
   "cell_type": "code",
   "execution_count": null,
   "metadata": {},
   "outputs": [],
   "source": []
  },
  {
   "cell_type": "markdown",
   "metadata": {},
   "source": [
    "[Naive Bayes and Text Classification](https://arxiv.org/pdf/1410.5329.pdf)  **Mais completo**\n",
    "\n",
    "[A practical explanation of a Naive Bayes Classifier](https://monkeylearn.com/blog/practical-explanation-naive-bayes-classifier/) **Mais simples**"
   ]
  },
  {
   "cell_type": "code",
   "execution_count": null,
   "metadata": {},
   "outputs": [],
   "source": []
  }
 ],
 "metadata": {
  "kernelspec": {
   "display_name": "Python 3",
   "language": "python",
   "name": "python3"
  },
  "language_info": {
   "codemirror_mode": {
    "name": "ipython",
    "version": 3
   },
   "file_extension": ".py",
   "mimetype": "text/x-python",
   "name": "python",
   "nbconvert_exporter": "python",
   "pygments_lexer": "ipython3",
   "version": "3.8.2-final"
  }
 },
 "nbformat": 4,
 "nbformat_minor": 4
}