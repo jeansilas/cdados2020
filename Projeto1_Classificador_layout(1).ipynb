{
 "cells": [
  {
   "cell_type": "markdown",
   "metadata": {},
   "source": [
    "# Projeto 1 - Ciência dos Dados"
   ]
  },
  {
   "cell_type": "markdown",
   "metadata": {},
   "source": [
    "Nome: Jean Silas\n",
    "\n",
    "Nome: Lai Haru"
   ]
  },
  {
   "cell_type": "markdown",
   "metadata": {},
   "source": [
    "**Atenção:** Serão permitidos grupos de três pessoas, mas com uma rubrica mais exigente. Grupos deste tamanho precisarão fazer um questionário de avaliação de trabalho em equipe"
   ]
  },
  {
   "cell_type": "markdown",
   "metadata": {},
   "source": [
    "___\n",
    "Carregando algumas bibliotecas:"
   ]
  },
  {
   "cell_type": "code",
   "execution_count": 2,
   "metadata": {},
   "outputs": [],
   "source": [
    "%matplotlib inline\n",
    "import pandas as pd\n",
    "import matplotlib.pyplot as plt\n",
    "import numpy as np\n",
    "import os"
   ]
  },
  {
   "cell_type": "markdown",
   "metadata": {},
   "source": [
    "**Em `filename`, coloque o nome do seu arquivo de dados!**"
   ]
  },
  {
   "cell_type": "code",
   "execution_count": 9,
   "metadata": {
    "scrolled": false
   },
   "outputs": [
    {
     "name": "stdout",
     "output_type": "stream",
     "text": [
      "Encontrei o arquivo classificado.xlsx, tudo certo para prosseguir com a prova!\n"
     ]
    }
   ],
   "source": [
    "import os\n",
    "\n",
    "filename = 'classificado.xlsx'\n",
    "if filename in os.listdir():\n",
    "    print(f'Encontrei o arquivo {filename}, tudo certo para prosseguir com a prova!')\n",
    "else:\n",
    "    print(f'Não encontrei o arquivo {filename} aqui no diretório {os.getcwd()}, será que você não baixou o arquivo?')"
   ]
  },
  {
   "cell_type": "markdown",
   "metadata": {},
   "source": [
    "Carregando a base de dados com os tweets classificados como relevantes e não relevantes:"
   ]
  },
  {
   "cell_type": "code",
   "execution_count": 10,
   "metadata": {},
   "outputs": [
    {
     "data": {
      "text/html": [
       "<div>\n",
       "<style scoped>\n",
       "    .dataframe tbody tr th:only-of-type {\n",
       "        vertical-align: middle;\n",
       "    }\n",
       "\n",
       "    .dataframe tbody tr th {\n",
       "        vertical-align: top;\n",
       "    }\n",
       "\n",
       "    .dataframe thead th {\n",
       "        text-align: right;\n",
       "    }\n",
       "</style>\n",
       "<table border=\"1\" class=\"dataframe\">\n",
       "  <thead>\n",
       "    <tr style=\"text-align: right;\">\n",
       "      <th></th>\n",
       "      <th>Treinamento</th>\n",
       "      <th>Unnamed: 1</th>\n",
       "    </tr>\n",
       "  </thead>\n",
       "  <tbody>\n",
       "    <tr>\n",
       "      <td>0</td>\n",
       "      <td>@anyretro acho que eu amo o de flocos e nutella</td>\n",
       "      <td>2</td>\n",
       "    </tr>\n",
       "    <tr>\n",
       "      <td>1</td>\n",
       "      <td>pedi pastel de camarão e sla agr to arrependid...</td>\n",
       "      <td>2</td>\n",
       "    </tr>\n",
       "    <tr>\n",
       "      <td>2</td>\n",
       "      <td>algm manda um pote de nutella pra mim que eu f...</td>\n",
       "      <td>1</td>\n",
       "    </tr>\n",
       "    <tr>\n",
       "      <td>3</td>\n",
       "      <td>@corinthians_ff torcida modinha time vai mal r...</td>\n",
       "      <td>1</td>\n",
       "    </tr>\n",
       "    <tr>\n",
       "      <td>4</td>\n",
       "      <td>@marciom61326104 cai fora paga pau de chines, ...</td>\n",
       "      <td>1</td>\n",
       "    </tr>\n",
       "  </tbody>\n",
       "</table>\n",
       "</div>"
      ],
      "text/plain": [
       "                                         Treinamento  Unnamed: 1\n",
       "0    @anyretro acho que eu amo o de flocos e nutella           2\n",
       "1  pedi pastel de camarão e sla agr to arrependid...           2\n",
       "2  algm manda um pote de nutella pra mim que eu f...           1\n",
       "3  @corinthians_ff torcida modinha time vai mal r...           1\n",
       "4  @marciom61326104 cai fora paga pau de chines, ...           1"
      ]
     },
     "execution_count": 10,
     "metadata": {},
     "output_type": "execute_result"
    }
   ],
   "source": [
    "train = pd.read_excel(filename)\n",
    "train.head(5)"
   ]
  },
  {
   "cell_type": "code",
   "execution_count": 11,
   "metadata": {},
   "outputs": [
    {
     "data": {
      "text/html": [
       "<div>\n",
       "<style scoped>\n",
       "    .dataframe tbody tr th:only-of-type {\n",
       "        vertical-align: middle;\n",
       "    }\n",
       "\n",
       "    .dataframe tbody tr th {\n",
       "        vertical-align: top;\n",
       "    }\n",
       "\n",
       "    .dataframe thead th {\n",
       "        text-align: right;\n",
       "    }\n",
       "</style>\n",
       "<table border=\"1\" class=\"dataframe\">\n",
       "  <thead>\n",
       "    <tr style=\"text-align: right;\">\n",
       "      <th></th>\n",
       "      <th>Teste</th>\n",
       "      <th>Unnamed: 1</th>\n",
       "    </tr>\n",
       "  </thead>\n",
       "  <tbody>\n",
       "    <tr>\n",
       "      <td>0</td>\n",
       "      <td>@duvirmond tênis? nutella</td>\n",
       "      <td>0</td>\n",
       "    </tr>\n",
       "    <tr>\n",
       "      <td>1</td>\n",
       "      <td>como assim tem gente q n come nutella no açaí?...</td>\n",
       "      <td>2</td>\n",
       "    </tr>\n",
       "    <tr>\n",
       "      <td>2</td>\n",
       "      <td>das delícias da abuelita, bolo ferrero! a comb...</td>\n",
       "      <td>2</td>\n",
       "    </tr>\n",
       "    <tr>\n",
       "      <td>3</td>\n",
       "      <td>daqui a pouco enfiam nutella e granulado como ...</td>\n",
       "      <td>1</td>\n",
       "    </tr>\n",
       "    <tr>\n",
       "      <td>4</td>\n",
       "      <td>biel querendo expulsão da raissa por causa de ...</td>\n",
       "      <td>0</td>\n",
       "    </tr>\n",
       "  </tbody>\n",
       "</table>\n",
       "</div>"
      ],
      "text/plain": [
       "                                               Teste  Unnamed: 1\n",
       "0                          @duvirmond tênis? nutella           0\n",
       "1  como assim tem gente q n come nutella no açaí?...           2\n",
       "2  das delícias da abuelita, bolo ferrero! a comb...           2\n",
       "3  daqui a pouco enfiam nutella e granulado como ...           1\n",
       "4  biel querendo expulsão da raissa por causa de ...           0"
      ]
     },
     "execution_count": 11,
     "metadata": {},
     "output_type": "execute_result"
    }
   ],
   "source": [
    "test = pd.read_excel(filename, sheet_name = 'Teste')\n",
    "test.head(5)"
   ]
  },
  {
   "cell_type": "markdown",
   "metadata": {},
   "source": [
    "___\n",
    "## Classificador automático de sentimento\n"
   ]
  },
  {
   "cell_type": "markdown",
   "metadata": {},
   "source": [
    "Faça aqui uma descrição do seu produto e o que considerou como relevante ou não relevante na classificação dos tweets.\n",
    "\n",
    "O nosso grupou esclheu o produto Nutella. Nós utililizamos o seguinte critério:\n",
    "\n",
    "* 0 -> para twitters negativos em relação ao produto\n",
    "\n",
    "* 1 -> para twitters irrelevantes/neutros em relação ao produto\n",
    "\n",
    "* 2 -> para twitters positivos em relação ao produto"
   ]
  },
  {
   "cell_type": "markdown",
   "metadata": {},
   "source": [
    "___\n",
    "### Montando um Classificador Naive-Bayes\n",
    "\n",
    "Considerando apenas as mensagens da planilha Treinamento, ensine  seu classificador."
   ]
  },
  {
   "cell_type": "code",
   "execution_count": 46,
   "metadata": {},
   "outputs": [],
   "source": [
    "Todos_Twitters = train.Treinamento.str.split()"
   ]
  },
  {
   "cell_type": "code",
   "execution_count": 47,
   "metadata": {},
   "outputs": [
    {
     "name": "stdout",
     "output_type": "stream",
     "text": [
      "0      [@anyretro, acho, que, eu, amo, o, de, flocos,...\n",
      "1      [pedi, pastel, de, camarão, e, sla, agr, to, a...\n",
      "2      [algm, manda, um, pote, de, nutella, pra, mim,...\n",
      "3      [@corinthians_ff, torcida, modinha, time, vai,...\n",
      "4      [@marciom61326104, cai, fora, paga, pau, de, c...\n",
      "                             ...                        \n",
      "565    [meu, deus, mousse, de, maracujá, com, nutella...\n",
      "566    [duas, e, meia, da, manhã, e, eu, comecei, e, ...\n",
      "567     [é, um, nutella, mesmo, https://t.co/o8xaspwrvs]\n",
      "568    [mulherada, não, pode, mergulhar, no, refri,, ...\n",
      "569    [@odiegoofficial, @dcm_online, não, dá, para, ...\n",
      "Name: Treinamento, Length: 570, dtype: object\n"
     ]
    }
   ],
   "source": [
    "print(Todos_Twitters)"
   ]
  },
  {
   "cell_type": "code",
   "execution_count": 49,
   "metadata": {},
   "outputs": [
    {
     "data": {
      "text/plain": [
       "['@anyretro',\n",
       " 'acho',\n",
       " 'que',\n",
       " 'eu',\n",
       " 'amo',\n",
       " 'o',\n",
       " 'de',\n",
       " 'flocos',\n",
       " 'e',\n",
       " 'nutella',\n",
       " 'pedi',\n",
       " 'pastel',\n",
       " 'de',\n",
       " 'camarão',\n",
       " 'e',\n",
       " 'sla',\n",
       " 'agr',\n",
       " 'to',\n",
       " 'arrependida',\n",
       " 'de',\n",
       " 'n',\n",
       " 'ter',\n",
       " 'pedido',\n",
       " 'de',\n",
       " 'nutella',\n",
       " 'c',\n",
       " 'morango',\n",
       " '😭😭😭😭',\n",
       " 'algm',\n",
       " 'manda',\n",
       " 'um',\n",
       " 'pote',\n",
       " 'de',\n",
       " 'nutella',\n",
       " 'pra',\n",
       " 'mim',\n",
       " 'que',\n",
       " 'eu',\n",
       " 'falo',\n",
       " 'se',\n",
       " 'esperava',\n",
       " 'ou',\n",
       " 'não👉🏼👈🏼',\n",
       " '@corinthians_ff',\n",
       " 'torcida',\n",
       " 'modinha',\n",
       " 'time',\n",
       " 'vai',\n",
       " 'mal',\n",
       " 'reclama',\n",
       " 'time',\n",
       " 'vai',\n",
       " 'bem',\n",
       " 'reclama',\n",
       " 'tbm',\n",
       " ',',\n",
       " 'seus',\n",
       " 'nutella',\n",
       " '2',\n",
       " 'lugar',\n",
       " 'com',\n",
       " '10',\n",
       " 'kills',\n",
       " 'ta',\n",
       " 'otimo',\n",
       " 'd+',\n",
       " '..',\n",
       " '@marciom61326104',\n",
       " 'cai',\n",
       " 'fora',\n",
       " 'paga',\n",
       " 'pau',\n",
       " 'de',\n",
       " 'chines,',\n",
       " 'milico',\n",
       " 'nutella',\n",
       " 'já',\n",
       " 'vi',\n",
       " 'de',\n",
       " 'tudo',\n",
       " 'nessa',\n",
       " 'vida,',\n",
       " 'mas',\n",
       " 'batata',\n",
       " 'frita',\n",
       " 'com',\n",
       " 'nutella',\n",
       " 'não',\n",
       " 'entra',\n",
       " 'puta',\n",
       " 'que',\n",
       " 'pariu',\n",
       " 'fui',\n",
       " 'brincar',\n",
       " 'com',\n",
       " 'a',\n",
       " 'nutella',\n",
       " 'e',\n",
       " 'ela',\n",
       " 'sujou']"
      ]
     },
     "execution_count": 49,
     "metadata": {},
     "output_type": "execute_result"
    }
   ],
   "source": [
    "tweets = [item for sublist in Todos_Twitters for item in sublist]\n",
    "pd.Series(tweets).value_counts()\n",
    "tweets[:100]"
   ]
  },
  {
   "cell_type": "markdown",
   "metadata": {},
   "source": [
    "___\n",
    "### Verificando a performance do Classificador\n",
    "\n",
    "Agora você deve testar o seu classificador com a base de Testes."
   ]
  },
  {
   "cell_type": "code",
   "execution_count": null,
   "metadata": {},
   "outputs": [],
   "source": []
  },
  {
   "cell_type": "code",
   "execution_count": null,
   "metadata": {},
   "outputs": [],
   "source": []
  },
  {
   "cell_type": "code",
   "execution_count": null,
   "metadata": {},
   "outputs": [],
   "source": []
  },
  {
   "cell_type": "markdown",
   "metadata": {},
   "source": [
    "___\n",
    "### Concluindo"
   ]
  },
  {
   "cell_type": "code",
   "execution_count": null,
   "metadata": {},
   "outputs": [],
   "source": []
  },
  {
   "cell_type": "code",
   "execution_count": null,
   "metadata": {},
   "outputs": [],
   "source": []
  },
  {
   "cell_type": "markdown",
   "metadata": {},
   "source": [
    "___\n",
    "## Aperfeiçoamento:\n",
    "\n",
    "Os trabalhos vão evoluir em conceito dependendo da quantidade de itens avançados:\n",
    "\n",
    "* Limpar: \\n, :, \", ', (, ), etc SEM remover emojis\n",
    "* Corrigir separação de espaços entre palavras e emojis ou entre emojis e emojis\n",
    "* Propor outras limpezas e transformações que não afetem a qualidade da informação ou classificação\n",
    "* Criar categorias intermediárias de relevância baseadas na probabilidade: ex.: muito relevante, relevante, neutro, irrelevante, muito irrelevante (3 categorias: C, mais categorias conta para B)\n",
    "* Explicar por que não posso usar o próprio classificador para gerar mais amostras de treinamento\n",
    "* Propor diferentes cenários para Naïve Bayes fora do contexto do projeto\n",
    "* Sugerir e explicar melhorias reais com indicações concretas de como implementar (indicar como fazer e indicar material de pesquisa)\n",
    "* Montar um dashboard que realiza análise de sentimento e visualiza estes dados"
   ]
  },
  {
   "cell_type": "markdown",
   "metadata": {},
   "source": [
    "___\n",
    "## Referências"
   ]
  },
  {
   "cell_type": "markdown",
   "metadata": {},
   "source": [
    "[Naive Bayes and Text Classification](https://arxiv.org/pdf/1410.5329.pdf)  **Mais completo**\n",
    "\n",
    "[A practical explanation of a Naive Bayes Classifier](https://monkeylearn.com/blog/practical-explanation-naive-bayes-classifier/) **Mais simples**"
   ]
  },
  {
   "cell_type": "code",
   "execution_count": null,
   "metadata": {},
   "outputs": [],
   "source": []
  }
 ],
 "metadata": {
  "kernelspec": {
   "display_name": "Python 3",
   "language": "python",
   "name": "python3"
  },
  "language_info": {
   "codemirror_mode": {
    "name": "ipython",
    "version": 3
   },
   "file_extension": ".py",
   "mimetype": "text/x-python",
   "name": "python",
   "nbconvert_exporter": "python",
   "pygments_lexer": "ipython3",
   "version": "3.7.4"
  }
 },
 "nbformat": 4,
 "nbformat_minor": 4
}
